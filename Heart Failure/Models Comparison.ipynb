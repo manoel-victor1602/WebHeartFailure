{
 "cells": [
  {
   "cell_type": "markdown",
   "metadata": {},
   "source": [
    "# Carregando as bibliotecas"
   ]
  },
  {
   "cell_type": "code",
   "execution_count": null,
   "metadata": {},
   "outputs": [],
   "source": [
    "import pandas as pd # Pandas para carregamento do conjunto de dados"
   ]
  },
  {
   "cell_type": "code",
   "execution_count": null,
   "metadata": {},
   "outputs": [],
   "source": [
    "from sklearn.preprocessing import LabelEncoder # Usada para codificação das categorias em números"
   ]
  },
  {
   "cell_type": "code",
   "execution_count": null,
   "metadata": {},
   "outputs": [],
   "source": [
    "# Algoritmos usados para treinamento e predição\n",
    "\n",
    "from sklearn.tree import DecisionTreeClassifier        # Árvore de Decisão\n",
    "from sklearn.ensemble import RandomForestClassifier    # Floresta Aleatória\n",
    "from sklearn.neighbors import KNeighborsClassifier     # KNN\n",
    "from sklearn.svm import SVC                            # SVM\n",
    "from sklearn.naive_bayes import GaussianNB             # Naive Bayes \n",
    "from sklearn.neural_network import MLPClassifier       # Rede Neural Artificial\n",
    "from sklearn.linear_model import LogisticRegression    # Regressão Logística"
   ]
  },
  {
   "cell_type": "code",
   "execution_count": null,
   "metadata": {},
   "outputs": [],
   "source": [
    "# Métricas para avaliação dos modelos\n",
    "from sklearn.metrics import classification_report, accuracy_score, confusion_matrix"
   ]
  },
  {
   "cell_type": "code",
   "execution_count": null,
   "metadata": {},
   "outputs": [],
   "source": [
    "# Método para separação do conjunto em treino e teste\n",
    "from sklearn.model_selection import train_test_split"
   ]
  },
  {
   "cell_type": "code",
   "execution_count": 1,
   "metadata": {},
   "outputs": [
    {
     "name": "stderr",
     "output_type": "stream",
     "text": [
      "C:\\Users\\ocean\\Anaconda3\\envs\\web_ml\\lib\\importlib\\_bootstrap.py:219: RuntimeWarning: numpy.ufunc size changed, may indicate binary incompatibility. Expected 192 from C header, got 216 from PyObject\n",
      "  return f(*args, **kwds)\n",
      "C:\\Users\\ocean\\Anaconda3\\envs\\web_ml\\lib\\importlib\\_bootstrap.py:219: RuntimeWarning: numpy.ufunc size changed, may indicate binary incompatibility. Expected 192 from C header, got 216 from PyObject\n",
      "  return f(*args, **kwds)\n"
     ]
    }
   ],
   "source": [
    "# Biblioteca para salvamento dos codificadores e do modelo que apresentar melhor resultados\n",
    "from sklearn.externals import joblib"
   ]
  },
  {
   "cell_type": "markdown",
   "metadata": {},
   "source": [
    "# Definindo função para treinamento e avaliação dos algoritmos"
   ]
  },
  {
   "cell_type": "code",
   "execution_count": 10,
   "metadata": {},
   "outputs": [],
   "source": [
    "def train_test_clf(clf, X, y):\n",
    "    \n",
    "    X_train, X_test, y_train, y_test = train_test_split(X, y, test_size=0.2)\n",
    "    \n",
    "    clf.fit(X_train, y_train)\n",
    "\n",
    "    y_pred = clf.predict(X_test)\n",
    "\n",
    "    print(accuracy_score(real, predicts))\n",
    "    print(confusion_matrix(real, predicts))\n",
    "    print(classification_report(real, predicts))"
   ]
  },
  {
   "cell_type": "markdown",
   "metadata": {},
   "source": [
    "# Carregamento e Análise do conjunto de dados"
   ]
  },
  {
   "cell_type": "code",
   "execution_count": 2,
   "metadata": {},
   "outputs": [],
   "source": [
    "df = pd.read_csv('patientdataV6.csv') # Carregando o conjunto de dados na memória"
   ]
  },
  {
   "cell_type": "code",
   "execution_count": 3,
   "metadata": {},
   "outputs": [
    {
     "data": {
      "text/html": [
       "<div>\n",
       "<style scoped>\n",
       "    .dataframe tbody tr th:only-of-type {\n",
       "        vertical-align: middle;\n",
       "    }\n",
       "\n",
       "    .dataframe tbody tr th {\n",
       "        vertical-align: top;\n",
       "    }\n",
       "\n",
       "    .dataframe thead th {\n",
       "        text-align: right;\n",
       "    }\n",
       "</style>\n",
       "<table border=\"1\" class=\"dataframe\">\n",
       "  <thead>\n",
       "    <tr style=\"text-align: right;\">\n",
       "      <th></th>\n",
       "      <th>AVGHEARTBEATSPERMIN</th>\n",
       "      <th>PALPITATIONSPERDAY</th>\n",
       "      <th>CHOLESTEROL</th>\n",
       "      <th>BMI</th>\n",
       "      <th>HEARTFAILURE</th>\n",
       "      <th>AGE</th>\n",
       "      <th>SEX</th>\n",
       "      <th>FAMILYHISTORY</th>\n",
       "      <th>SMOKERLAST5YRS</th>\n",
       "      <th>EXERCISEMINPERWEEK</th>\n",
       "    </tr>\n",
       "  </thead>\n",
       "  <tbody>\n",
       "    <tr>\n",
       "      <td>0</td>\n",
       "      <td>93</td>\n",
       "      <td>22</td>\n",
       "      <td>163</td>\n",
       "      <td>25</td>\n",
       "      <td>N</td>\n",
       "      <td>49</td>\n",
       "      <td>F</td>\n",
       "      <td>N</td>\n",
       "      <td>N</td>\n",
       "      <td>110</td>\n",
       "    </tr>\n",
       "    <tr>\n",
       "      <td>1</td>\n",
       "      <td>108</td>\n",
       "      <td>22</td>\n",
       "      <td>181</td>\n",
       "      <td>24</td>\n",
       "      <td>N</td>\n",
       "      <td>32</td>\n",
       "      <td>F</td>\n",
       "      <td>N</td>\n",
       "      <td>N</td>\n",
       "      <td>192</td>\n",
       "    </tr>\n",
       "    <tr>\n",
       "      <td>2</td>\n",
       "      <td>86</td>\n",
       "      <td>0</td>\n",
       "      <td>239</td>\n",
       "      <td>20</td>\n",
       "      <td>N</td>\n",
       "      <td>60</td>\n",
       "      <td>F</td>\n",
       "      <td>N</td>\n",
       "      <td>N</td>\n",
       "      <td>121</td>\n",
       "    </tr>\n",
       "    <tr>\n",
       "      <td>3</td>\n",
       "      <td>80</td>\n",
       "      <td>36</td>\n",
       "      <td>164</td>\n",
       "      <td>31</td>\n",
       "      <td>Y</td>\n",
       "      <td>45</td>\n",
       "      <td>F</td>\n",
       "      <td>Y</td>\n",
       "      <td>N</td>\n",
       "      <td>141</td>\n",
       "    </tr>\n",
       "    <tr>\n",
       "      <td>4</td>\n",
       "      <td>66</td>\n",
       "      <td>36</td>\n",
       "      <td>185</td>\n",
       "      <td>23</td>\n",
       "      <td>N</td>\n",
       "      <td>39</td>\n",
       "      <td>F</td>\n",
       "      <td>N</td>\n",
       "      <td>N</td>\n",
       "      <td>63</td>\n",
       "    </tr>\n",
       "  </tbody>\n",
       "</table>\n",
       "</div>"
      ],
      "text/plain": [
       "   AVGHEARTBEATSPERMIN  PALPITATIONSPERDAY  CHOLESTEROL  BMI HEARTFAILURE  \\\n",
       "0                   93                  22          163   25            N   \n",
       "1                  108                  22          181   24            N   \n",
       "2                   86                   0          239   20            N   \n",
       "3                   80                  36          164   31            Y   \n",
       "4                   66                  36          185   23            N   \n",
       "\n",
       "   AGE SEX FAMILYHISTORY SMOKERLAST5YRS  EXERCISEMINPERWEEK  \n",
       "0   49   F             N              N                 110  \n",
       "1   32   F             N              N                 192  \n",
       "2   60   F             N              N                 121  \n",
       "3   45   F             Y              N                 141  \n",
       "4   39   F             N              N                  63  "
      ]
     },
     "execution_count": 3,
     "metadata": {},
     "output_type": "execute_result"
    }
   ],
   "source": [
    "df.head() # Verificando os 5 primeiros exemplos do conjunto"
   ]
  },
  {
   "cell_type": "code",
   "execution_count": 4,
   "metadata": {},
   "outputs": [
    {
     "name": "stdout",
     "output_type": "stream",
     "text": [
      "<class 'pandas.core.frame.DataFrame'>\n",
      "RangeIndex: 10800 entries, 0 to 10799\n",
      "Data columns (total 10 columns):\n",
      "AVGHEARTBEATSPERMIN    10800 non-null int64\n",
      "PALPITATIONSPERDAY     10800 non-null int64\n",
      "CHOLESTEROL            10800 non-null int64\n",
      "BMI                    10800 non-null int64\n",
      "HEARTFAILURE           10800 non-null object\n",
      "AGE                    10800 non-null int64\n",
      "SEX                    10800 non-null object\n",
      "FAMILYHISTORY          10800 non-null object\n",
      "SMOKERLAST5YRS         10800 non-null object\n",
      "EXERCISEMINPERWEEK     10800 non-null int64\n",
      "dtypes: int64(6), object(4)\n",
      "memory usage: 843.9+ KB\n"
     ]
    }
   ],
   "source": [
    "df.info() # Verificando algumas informações gerais do conjunto de dados"
   ]
  },
  {
   "cell_type": "code",
   "execution_count": 5,
   "metadata": {},
   "outputs": [
    {
     "data": {
      "text/plain": [
       "N    9012\n",
       "Y    1788\n",
       "Name: HEARTFAILURE, dtype: int64"
      ]
     },
     "execution_count": 5,
     "metadata": {},
     "output_type": "execute_result"
    }
   ],
   "source": [
    "df.HEARTFAILURE.value_counts() # Contagem da distribuição das características alvo"
   ]
  },
  {
   "cell_type": "code",
   "execution_count": 9,
   "metadata": {},
   "outputs": [
    {
     "data": {
      "text/html": [
       "<div>\n",
       "<style scoped>\n",
       "    .dataframe tbody tr th:only-of-type {\n",
       "        vertical-align: middle;\n",
       "    }\n",
       "\n",
       "    .dataframe tbody tr th {\n",
       "        vertical-align: top;\n",
       "    }\n",
       "\n",
       "    .dataframe thead th {\n",
       "        text-align: right;\n",
       "    }\n",
       "</style>\n",
       "<table border=\"1\" class=\"dataframe\">\n",
       "  <thead>\n",
       "    <tr style=\"text-align: right;\">\n",
       "      <th></th>\n",
       "      <th>AVGHEARTBEATSPERMIN</th>\n",
       "      <th>PALPITATIONSPERDAY</th>\n",
       "      <th>CHOLESTEROL</th>\n",
       "      <th>BMI</th>\n",
       "      <th>HEARTFAILURE</th>\n",
       "      <th>AGE</th>\n",
       "      <th>SEX</th>\n",
       "      <th>FAMILYHISTORY</th>\n",
       "      <th>SMOKERLAST5YRS</th>\n",
       "      <th>EXERCISEMINPERWEEK</th>\n",
       "    </tr>\n",
       "  </thead>\n",
       "  <tbody>\n",
       "    <tr>\n",
       "      <td>AVGHEARTBEATSPERMIN</td>\n",
       "      <td>1.000000</td>\n",
       "      <td>0.006528</td>\n",
       "      <td>0.005837</td>\n",
       "      <td>0.050005</td>\n",
       "      <td>0.218694</td>\n",
       "      <td>-0.001936</td>\n",
       "      <td>-0.002783</td>\n",
       "      <td>0.153367</td>\n",
       "      <td>0.029828</td>\n",
       "      <td>-0.019575</td>\n",
       "    </tr>\n",
       "    <tr>\n",
       "      <td>PALPITATIONSPERDAY</td>\n",
       "      <td>0.006528</td>\n",
       "      <td>1.000000</td>\n",
       "      <td>0.008507</td>\n",
       "      <td>0.031096</td>\n",
       "      <td>0.054420</td>\n",
       "      <td>0.009795</td>\n",
       "      <td>0.000794</td>\n",
       "      <td>0.041322</td>\n",
       "      <td>0.008423</td>\n",
       "      <td>-0.009556</td>\n",
       "    </tr>\n",
       "    <tr>\n",
       "      <td>CHOLESTEROL</td>\n",
       "      <td>0.005837</td>\n",
       "      <td>0.008507</td>\n",
       "      <td>1.000000</td>\n",
       "      <td>0.011770</td>\n",
       "      <td>0.016542</td>\n",
       "      <td>-0.012401</td>\n",
       "      <td>0.004805</td>\n",
       "      <td>0.006940</td>\n",
       "      <td>0.002050</td>\n",
       "      <td>-0.008601</td>\n",
       "    </tr>\n",
       "    <tr>\n",
       "      <td>BMI</td>\n",
       "      <td>0.050005</td>\n",
       "      <td>0.031096</td>\n",
       "      <td>0.011770</td>\n",
       "      <td>1.000000</td>\n",
       "      <td>0.136222</td>\n",
       "      <td>-0.005033</td>\n",
       "      <td>-0.005911</td>\n",
       "      <td>0.087891</td>\n",
       "      <td>0.003152</td>\n",
       "      <td>-0.035000</td>\n",
       "    </tr>\n",
       "    <tr>\n",
       "      <td>HEARTFAILURE</td>\n",
       "      <td>0.218694</td>\n",
       "      <td>0.054420</td>\n",
       "      <td>0.016542</td>\n",
       "      <td>0.136222</td>\n",
       "      <td>1.000000</td>\n",
       "      <td>-0.017005</td>\n",
       "      <td>-0.007444</td>\n",
       "      <td>0.399565</td>\n",
       "      <td>0.081169</td>\n",
       "      <td>-0.085311</td>\n",
       "    </tr>\n",
       "    <tr>\n",
       "      <td>AGE</td>\n",
       "      <td>-0.001936</td>\n",
       "      <td>0.009795</td>\n",
       "      <td>-0.012401</td>\n",
       "      <td>-0.005033</td>\n",
       "      <td>-0.017005</td>\n",
       "      <td>1.000000</td>\n",
       "      <td>-0.000172</td>\n",
       "      <td>-0.014516</td>\n",
       "      <td>0.003387</td>\n",
       "      <td>-0.013585</td>\n",
       "    </tr>\n",
       "    <tr>\n",
       "      <td>SEX</td>\n",
       "      <td>-0.002783</td>\n",
       "      <td>0.000794</td>\n",
       "      <td>0.004805</td>\n",
       "      <td>-0.005911</td>\n",
       "      <td>-0.007444</td>\n",
       "      <td>-0.000172</td>\n",
       "      <td>1.000000</td>\n",
       "      <td>0.002176</td>\n",
       "      <td>-0.010618</td>\n",
       "      <td>0.014572</td>\n",
       "    </tr>\n",
       "    <tr>\n",
       "      <td>FAMILYHISTORY</td>\n",
       "      <td>0.153367</td>\n",
       "      <td>0.041322</td>\n",
       "      <td>0.006940</td>\n",
       "      <td>0.087891</td>\n",
       "      <td>0.399565</td>\n",
       "      <td>-0.014516</td>\n",
       "      <td>0.002176</td>\n",
       "      <td>1.000000</td>\n",
       "      <td>0.053356</td>\n",
       "      <td>-0.053195</td>\n",
       "    </tr>\n",
       "    <tr>\n",
       "      <td>SMOKERLAST5YRS</td>\n",
       "      <td>0.029828</td>\n",
       "      <td>0.008423</td>\n",
       "      <td>0.002050</td>\n",
       "      <td>0.003152</td>\n",
       "      <td>0.081169</td>\n",
       "      <td>0.003387</td>\n",
       "      <td>-0.010618</td>\n",
       "      <td>0.053356</td>\n",
       "      <td>1.000000</td>\n",
       "      <td>-0.009926</td>\n",
       "    </tr>\n",
       "    <tr>\n",
       "      <td>EXERCISEMINPERWEEK</td>\n",
       "      <td>-0.019575</td>\n",
       "      <td>-0.009556</td>\n",
       "      <td>-0.008601</td>\n",
       "      <td>-0.035000</td>\n",
       "      <td>-0.085311</td>\n",
       "      <td>-0.013585</td>\n",
       "      <td>0.014572</td>\n",
       "      <td>-0.053195</td>\n",
       "      <td>-0.009926</td>\n",
       "      <td>1.000000</td>\n",
       "    </tr>\n",
       "  </tbody>\n",
       "</table>\n",
       "</div>"
      ],
      "text/plain": [
       "                     AVGHEARTBEATSPERMIN  PALPITATIONSPERDAY  CHOLESTEROL  \\\n",
       "AVGHEARTBEATSPERMIN             1.000000            0.006528     0.005837   \n",
       "PALPITATIONSPERDAY              0.006528            1.000000     0.008507   \n",
       "CHOLESTEROL                     0.005837            0.008507     1.000000   \n",
       "BMI                             0.050005            0.031096     0.011770   \n",
       "HEARTFAILURE                    0.218694            0.054420     0.016542   \n",
       "AGE                            -0.001936            0.009795    -0.012401   \n",
       "SEX                            -0.002783            0.000794     0.004805   \n",
       "FAMILYHISTORY                   0.153367            0.041322     0.006940   \n",
       "SMOKERLAST5YRS                  0.029828            0.008423     0.002050   \n",
       "EXERCISEMINPERWEEK             -0.019575           -0.009556    -0.008601   \n",
       "\n",
       "                          BMI  HEARTFAILURE       AGE       SEX  \\\n",
       "AVGHEARTBEATSPERMIN  0.050005      0.218694 -0.001936 -0.002783   \n",
       "PALPITATIONSPERDAY   0.031096      0.054420  0.009795  0.000794   \n",
       "CHOLESTEROL          0.011770      0.016542 -0.012401  0.004805   \n",
       "BMI                  1.000000      0.136222 -0.005033 -0.005911   \n",
       "HEARTFAILURE         0.136222      1.000000 -0.017005 -0.007444   \n",
       "AGE                 -0.005033     -0.017005  1.000000 -0.000172   \n",
       "SEX                 -0.005911     -0.007444 -0.000172  1.000000   \n",
       "FAMILYHISTORY        0.087891      0.399565 -0.014516  0.002176   \n",
       "SMOKERLAST5YRS       0.003152      0.081169  0.003387 -0.010618   \n",
       "EXERCISEMINPERWEEK  -0.035000     -0.085311 -0.013585  0.014572   \n",
       "\n",
       "                     FAMILYHISTORY  SMOKERLAST5YRS  EXERCISEMINPERWEEK  \n",
       "AVGHEARTBEATSPERMIN       0.153367        0.029828           -0.019575  \n",
       "PALPITATIONSPERDAY        0.041322        0.008423           -0.009556  \n",
       "CHOLESTEROL               0.006940        0.002050           -0.008601  \n",
       "BMI                       0.087891        0.003152           -0.035000  \n",
       "HEARTFAILURE              0.399565        0.081169           -0.085311  \n",
       "AGE                      -0.014516        0.003387           -0.013585  \n",
       "SEX                       0.002176       -0.010618            0.014572  \n",
       "FAMILYHISTORY             1.000000        0.053356           -0.053195  \n",
       "SMOKERLAST5YRS            0.053356        1.000000           -0.009926  \n",
       "EXERCISEMINPERWEEK       -0.053195       -0.009926            1.000000  "
      ]
     },
     "execution_count": 9,
     "metadata": {},
     "output_type": "execute_result"
    }
   ],
   "source": [
    "df.corr()"
   ]
  },
  {
   "cell_type": "markdown",
   "metadata": {},
   "source": [
    "# Preparando codificadores das características categóricas"
   ]
  },
  {
   "cell_type": "code",
   "execution_count": 6,
   "metadata": {},
   "outputs": [],
   "source": [
    "# Definindo codificadores\n",
    "hf_encoder = LabelEncoder()\n",
    "sex_encoder = LabelEncoder()\n",
    "family_encoder = LabelEncoder()\n",
    "smoker_encoder = LabelEncoder()"
   ]
  },
  {
   "cell_type": "code",
   "execution_count": 7,
   "metadata": {},
   "outputs": [],
   "source": [
    "# Preparando codificadores para as variáveis categóricas\n",
    "df.HEARTFAILURE = hf_encoder.fit_transform(df.HEARTFAILURE)\n",
    "df.SEX = sex_encoder.fit_transform(df.SEX)\n",
    "df.FAMILYHISTORY = family_encoder.fit_transform(df.FAMILYHISTORY)\n",
    "df.SMOKERLAST5YRS = smoker_encoder.fit_transform(df.SMOKERLAST5YRS)"
   ]
  },
  {
   "cell_type": "code",
   "execution_count": 8,
   "metadata": {},
   "outputs": [
    {
     "data": {
      "text/plain": [
       "['smoker_encoder.pkl']"
      ]
     },
     "execution_count": 8,
     "metadata": {},
     "output_type": "execute_result"
    }
   ],
   "source": [
    "# Salvando codificadores\n",
    "joblib.dump(hf_encoder, 'hf_encoder.pkl')\n",
    "joblib.dump(sex_encoder, 'sex_encoder.pkl')\n",
    "joblib.dump(family_encoder, 'family_encoder.pkl')\n",
    "joblib.dump(smoker_encoder, 'smoker_encoder.pkl')"
   ]
  },
  {
   "cell_type": "code",
   "execution_count": 20,
   "metadata": {},
   "outputs": [
    {
     "data": {
      "text/html": [
       "<div>\n",
       "<style scoped>\n",
       "    .dataframe tbody tr th:only-of-type {\n",
       "        vertical-align: middle;\n",
       "    }\n",
       "\n",
       "    .dataframe tbody tr th {\n",
       "        vertical-align: top;\n",
       "    }\n",
       "\n",
       "    .dataframe thead th {\n",
       "        text-align: right;\n",
       "    }\n",
       "</style>\n",
       "<table border=\"1\" class=\"dataframe\">\n",
       "  <thead>\n",
       "    <tr style=\"text-align: right;\">\n",
       "      <th></th>\n",
       "      <th>AVGHEARTBEATSPERMIN</th>\n",
       "      <th>PALPITATIONSPERDAY</th>\n",
       "      <th>CHOLESTEROL</th>\n",
       "      <th>BMI</th>\n",
       "      <th>HEARTFAILURE</th>\n",
       "      <th>AGE</th>\n",
       "      <th>SEX</th>\n",
       "      <th>FAMILYHISTORY</th>\n",
       "      <th>SMOKERLAST5YRS</th>\n",
       "      <th>EXERCISEMINPERWEEK</th>\n",
       "    </tr>\n",
       "  </thead>\n",
       "  <tbody>\n",
       "    <tr>\n",
       "      <td>0</td>\n",
       "      <td>93</td>\n",
       "      <td>22</td>\n",
       "      <td>163</td>\n",
       "      <td>25</td>\n",
       "      <td>0</td>\n",
       "      <td>49</td>\n",
       "      <td>0</td>\n",
       "      <td>0</td>\n",
       "      <td>0</td>\n",
       "      <td>110</td>\n",
       "    </tr>\n",
       "    <tr>\n",
       "      <td>1</td>\n",
       "      <td>108</td>\n",
       "      <td>22</td>\n",
       "      <td>181</td>\n",
       "      <td>24</td>\n",
       "      <td>0</td>\n",
       "      <td>32</td>\n",
       "      <td>0</td>\n",
       "      <td>0</td>\n",
       "      <td>0</td>\n",
       "      <td>192</td>\n",
       "    </tr>\n",
       "    <tr>\n",
       "      <td>2</td>\n",
       "      <td>86</td>\n",
       "      <td>0</td>\n",
       "      <td>239</td>\n",
       "      <td>20</td>\n",
       "      <td>0</td>\n",
       "      <td>60</td>\n",
       "      <td>0</td>\n",
       "      <td>0</td>\n",
       "      <td>0</td>\n",
       "      <td>121</td>\n",
       "    </tr>\n",
       "    <tr>\n",
       "      <td>3</td>\n",
       "      <td>80</td>\n",
       "      <td>36</td>\n",
       "      <td>164</td>\n",
       "      <td>31</td>\n",
       "      <td>1</td>\n",
       "      <td>45</td>\n",
       "      <td>0</td>\n",
       "      <td>1</td>\n",
       "      <td>0</td>\n",
       "      <td>141</td>\n",
       "    </tr>\n",
       "    <tr>\n",
       "      <td>4</td>\n",
       "      <td>66</td>\n",
       "      <td>36</td>\n",
       "      <td>185</td>\n",
       "      <td>23</td>\n",
       "      <td>0</td>\n",
       "      <td>39</td>\n",
       "      <td>0</td>\n",
       "      <td>0</td>\n",
       "      <td>0</td>\n",
       "      <td>63</td>\n",
       "    </tr>\n",
       "  </tbody>\n",
       "</table>\n",
       "</div>"
      ],
      "text/plain": [
       "   AVGHEARTBEATSPERMIN  PALPITATIONSPERDAY  CHOLESTEROL  BMI  HEARTFAILURE  \\\n",
       "0                   93                  22          163   25             0   \n",
       "1                  108                  22          181   24             0   \n",
       "2                   86                   0          239   20             0   \n",
       "3                   80                  36          164   31             1   \n",
       "4                   66                  36          185   23             0   \n",
       "\n",
       "   AGE  SEX  FAMILYHISTORY  SMOKERLAST5YRS  EXERCISEMINPERWEEK  \n",
       "0   49    0              0               0                 110  \n",
       "1   32    0              0               0                 192  \n",
       "2   60    0              0               0                 121  \n",
       "3   45    0              1               0                 141  \n",
       "4   39    0              0               0                  63  "
      ]
     },
     "execution_count": 20,
     "metadata": {},
     "output_type": "execute_result"
    }
   ],
   "source": [
    "df.head()"
   ]
  },
  {
   "cell_type": "markdown",
   "metadata": {},
   "source": [
    "# Separando o conjunto em variáveis preditoras (X) e variável alvo (y)"
   ]
  },
  {
   "cell_type": "code",
   "execution_count": 11,
   "metadata": {},
   "outputs": [],
   "source": [
    "X = df.drop(['HEARTFAILURE'], axis=1).values\n",
    "y = df.HEARTFAILURE.values"
   ]
  },
  {
   "cell_type": "markdown",
   "metadata": {},
   "source": [
    "# Usando função de treinamento e avaliação para os diferentes algoritmos"
   ]
  },
  {
   "cell_type": "code",
   "execution_count": 12,
   "metadata": {},
   "outputs": [
    {
     "name": "stdout",
     "output_type": "stream",
     "text": [
      "0.7925925925925926\n",
      "[[1550  239]\n",
      " [ 209  162]]\n",
      "              precision    recall  f1-score   support\n",
      "\n",
      "           0       0.88      0.87      0.87      1789\n",
      "           1       0.40      0.44      0.42       371\n",
      "\n",
      "    accuracy                           0.79      2160\n",
      "   macro avg       0.64      0.65      0.65      2160\n",
      "weighted avg       0.80      0.79      0.80      2160\n",
      "\n"
     ]
    }
   ],
   "source": [
    "train_test_clf(DecisionTreeClassifier(), X, y) # Árvore de Decisão"
   ]
  },
  {
   "cell_type": "code",
   "execution_count": 13,
   "metadata": {},
   "outputs": [
    {
     "name": "stderr",
     "output_type": "stream",
     "text": [
      "C:\\Users\\ocean\\Anaconda3\\envs\\web_ml\\lib\\site-packages\\sklearn\\ensemble\\forest.py:245: FutureWarning: The default value of n_estimators will change from 10 in version 0.20 to 100 in 0.22.\n",
      "  \"10 in version 0.20 to 100 in 0.22.\", FutureWarning)\n"
     ]
    },
    {
     "name": "stdout",
     "output_type": "stream",
     "text": [
      "0.8560185185185185\n",
      "[[1709   58]\n",
      " [ 253  140]]\n",
      "              precision    recall  f1-score   support\n",
      "\n",
      "           0       0.87      0.97      0.92      1767\n",
      "           1       0.71      0.36      0.47       393\n",
      "\n",
      "    accuracy                           0.86      2160\n",
      "   macro avg       0.79      0.66      0.70      2160\n",
      "weighted avg       0.84      0.86      0.84      2160\n",
      "\n"
     ]
    }
   ],
   "source": [
    "train_test_clf(RandomForestClassifier(), X, y) # Floresta Aleatória"
   ]
  },
  {
   "cell_type": "code",
   "execution_count": 14,
   "metadata": {},
   "outputs": [
    {
     "name": "stdout",
     "output_type": "stream",
     "text": [
      "0.8375\n",
      "[[1763   65]\n",
      " [ 286   46]]\n",
      "              precision    recall  f1-score   support\n",
      "\n",
      "           0       0.86      0.96      0.91      1828\n",
      "           1       0.41      0.14      0.21       332\n",
      "\n",
      "    accuracy                           0.84      2160\n",
      "   macro avg       0.64      0.55      0.56      2160\n",
      "weighted avg       0.79      0.84      0.80      2160\n",
      "\n"
     ]
    }
   ],
   "source": [
    "train_test_clf(KNeighborsClassifier(), X, y) # KNN"
   ]
  },
  {
   "cell_type": "code",
   "execution_count": 15,
   "metadata": {
    "scrolled": true
   },
   "outputs": [
    {
     "name": "stderr",
     "output_type": "stream",
     "text": [
      "C:\\Users\\ocean\\Anaconda3\\envs\\web_ml\\lib\\site-packages\\sklearn\\svm\\base.py:193: FutureWarning: The default value of gamma will change from 'auto' to 'scale' in version 0.22 to account better for unscaled features. Set gamma explicitly to 'auto' or 'scale' to avoid this warning.\n",
      "  \"avoid this warning.\", FutureWarning)\n"
     ]
    },
    {
     "name": "stdout",
     "output_type": "stream",
     "text": [
      "0.8356481481481481\n",
      "[[1805    0]\n",
      " [ 355    0]]\n",
      "              precision    recall  f1-score   support\n",
      "\n",
      "           0       0.84      1.00      0.91      1805\n",
      "           1       0.00      0.00      0.00       355\n",
      "\n",
      "    accuracy                           0.84      2160\n",
      "   macro avg       0.42      0.50      0.46      2160\n",
      "weighted avg       0.70      0.84      0.76      2160\n",
      "\n"
     ]
    },
    {
     "name": "stderr",
     "output_type": "stream",
     "text": [
      "C:\\Users\\ocean\\Anaconda3\\envs\\web_ml\\lib\\site-packages\\sklearn\\metrics\\classification.py:1437: UndefinedMetricWarning: Precision and F-score are ill-defined and being set to 0.0 in labels with no predicted samples.\n",
      "  'precision', 'predicted', average, warn_for)\n"
     ]
    }
   ],
   "source": [
    "train_test_clf(SVC(), X, y) # SVM"
   ]
  },
  {
   "cell_type": "code",
   "execution_count": 16,
   "metadata": {},
   "outputs": [
    {
     "name": "stdout",
     "output_type": "stream",
     "text": [
      "0.8245370370370371\n",
      "[[1570  221]\n",
      " [ 158  211]]\n",
      "              precision    recall  f1-score   support\n",
      "\n",
      "           0       0.91      0.88      0.89      1791\n",
      "           1       0.49      0.57      0.53       369\n",
      "\n",
      "    accuracy                           0.82      2160\n",
      "   macro avg       0.70      0.72      0.71      2160\n",
      "weighted avg       0.84      0.82      0.83      2160\n",
      "\n"
     ]
    }
   ],
   "source": [
    "train_test_clf(GaussianNB(), X, y) # Naive Bayes"
   ]
  },
  {
   "cell_type": "code",
   "execution_count": 17,
   "metadata": {},
   "outputs": [
    {
     "name": "stdout",
     "output_type": "stream",
     "text": [
      "0.8462962962962963\n",
      "[[1666  132]\n",
      " [ 200  162]]\n",
      "              precision    recall  f1-score   support\n",
      "\n",
      "           0       0.89      0.93      0.91      1798\n",
      "           1       0.55      0.45      0.49       362\n",
      "\n",
      "    accuracy                           0.85      2160\n",
      "   macro avg       0.72      0.69      0.70      2160\n",
      "weighted avg       0.84      0.85      0.84      2160\n",
      "\n"
     ]
    }
   ],
   "source": [
    "train_test_clf(MLPClassifier(), X, y) # Rede Neural Artificial"
   ]
  },
  {
   "cell_type": "code",
   "execution_count": 18,
   "metadata": {},
   "outputs": [
    {
     "name": "stderr",
     "output_type": "stream",
     "text": [
      "C:\\Users\\ocean\\Anaconda3\\envs\\web_ml\\lib\\site-packages\\sklearn\\linear_model\\logistic.py:432: FutureWarning: Default solver will be changed to 'lbfgs' in 0.22. Specify a solver to silence this warning.\n",
      "  FutureWarning)\n"
     ]
    },
    {
     "name": "stdout",
     "output_type": "stream",
     "text": [
      "0.8611111111111112\n",
      "[[1755   38]\n",
      " [ 262  105]]\n",
      "              precision    recall  f1-score   support\n",
      "\n",
      "           0       0.87      0.98      0.92      1793\n",
      "           1       0.73      0.29      0.41       367\n",
      "\n",
      "    accuracy                           0.86      2160\n",
      "   macro avg       0.80      0.63      0.67      2160\n",
      "weighted avg       0.85      0.86      0.83      2160\n",
      "\n"
     ]
    }
   ],
   "source": [
    "train_test_clf(LogisticRegression(), X, y) # Regressão Logística"
   ]
  },
  {
   "cell_type": "markdown",
   "metadata": {},
   "source": [
    "# Salvando melhor classificador "
   ]
  },
  {
   "cell_type": "code",
   "execution_count": 19,
   "metadata": {},
   "outputs": [
    {
     "name": "stderr",
     "output_type": "stream",
     "text": [
      "C:\\Users\\ocean\\Anaconda3\\envs\\web_ml\\lib\\site-packages\\sklearn\\ensemble\\forest.py:245: FutureWarning: The default value of n_estimators will change from 10 in version 0.20 to 100 in 0.22.\n",
      "  \"10 in version 0.20 to 100 in 0.22.\", FutureWarning)\n"
     ]
    },
    {
     "data": {
      "text/plain": [
       "['rf.pkl']"
      ]
     },
     "execution_count": 19,
     "metadata": {},
     "output_type": "execute_result"
    }
   ],
   "source": [
    "clf = RandomForestClassifier()\n",
    "clf.fit(X, y)\n",
    "joblib.dump(clf, 'rf.pkl')"
   ]
  }
 ],
 "metadata": {
  "kernelspec": {
   "display_name": "Python 3",
   "language": "python",
   "name": "python3"
  },
  "language_info": {
   "codemirror_mode": {
    "name": "ipython",
    "version": 3
   },
   "file_extension": ".py",
   "mimetype": "text/x-python",
   "name": "python",
   "nbconvert_exporter": "python",
   "pygments_lexer": "ipython3",
   "version": "3.6.9"
  }
 },
 "nbformat": 4,
 "nbformat_minor": 2
}
